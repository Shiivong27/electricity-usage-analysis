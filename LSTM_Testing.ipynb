{
 "cells": [
  {
   "cell_type": "code",
   "execution_count": 2,
   "metadata": {},
   "outputs": [
    {
     "name": "stderr",
     "output_type": "stream",
     "text": [
      "Using TensorFlow backend.\n"
     ]
    }
   ],
   "source": [
    "from math import sqrt\n",
    "from numpy import concatenate\n",
    "from matplotlib import pyplot\n",
    "from pandas import read_csv\n",
    "from pandas import DataFrame\n",
    "from pandas import concat\n",
    "from sklearn.preprocessing import MinMaxScaler\n",
    "from sklearn.preprocessing import LabelEncoder\n",
    "from sklearn.metrics import mean_squared_error\n",
    "from keras.models import Sequential\n",
    "from keras.layers import Dense\n",
    "from keras.layers import LSTM"
   ]
  },
  {
   "cell_type": "code",
   "execution_count": 3,
   "metadata": {},
   "outputs": [],
   "source": [
    "# convert series to supervised learning\n",
    "def series_to_supervised(data, n_in=1, n_out=1, dropnan=True):\n",
    "\tn_vars = 1 if type(data) is list else data.shape[1]\n",
    "\tdf = DataFrame(data)\n",
    "\tcols, names = list(), list()\n",
    "\t# input sequence (t-n, ... t-1)\n",
    "\tfor i in range(n_in, 0, -1):\n",
    "\t\tcols.append(df.shift(i))\n",
    "\t\tnames += [('var%d(t-%d)' % (j+1, i)) for j in range(n_vars)]\n",
    "\t# forecast sequence (t, t+1, ... t+n)\n",
    "\tfor i in range(0, n_out):\n",
    "\t\tcols.append(df.shift(-i))\n",
    "\t\tif i == 0:\n",
    "\t\t\tnames += [('var%d(t)' % (j+1)) for j in range(n_vars)]\n",
    "\t\telse:\n",
    "\t\t\tnames += [('var%d(t+%d)' % (j+1, i)) for j in range(n_vars)]\n",
    "\t# put it all together\n",
    "\tagg = concat(cols, axis=1)\n",
    "\tagg.columns = names\n",
    "\t# drop rows with NaN values\n",
    "\tif dropnan:\n",
    "\t\tagg.dropna(inplace=True)\n",
    "\treturn agg"
   ]
  },
  {
   "cell_type": "code",
   "execution_count": 33,
   "metadata": {},
   "outputs": [
    {
     "name": "stdout",
     "output_type": "stream",
     "text": [
      "   var1(t-1)  var2(t-1)  var3(t-1)  var4(t-1)  var5(t-1)  var6(t-1)  \\\n",
      "1        0.0        0.0        0.0   0.000000   0.000000   0.279412   \n",
      "2        0.0        0.0        0.0   0.043478   0.000378   0.279412   \n",
      "3        0.0        0.0        0.0   0.086957   0.001133   0.279412   \n",
      "4        0.0        0.0        0.0   0.130435   0.001511   0.279412   \n",
      "5        0.0        0.0        0.0   0.173913   0.000756   0.294118   \n",
      "\n",
      "   var7(t-1)  var8(t-1)  var9(t-1)   var5(t)   var6(t)   var7(t)   var8(t)  \\\n",
      "1   0.131148   0.545454   0.333333  0.000378  0.279412  0.114754  0.527273   \n",
      "2   0.114754   0.527273   0.333333  0.001133  0.279412  0.131148  0.509090   \n",
      "3   0.131148   0.509090   0.333333  0.001511  0.279412  0.081967  0.509090   \n",
      "4   0.081967   0.509090   0.333333  0.000756  0.294118  0.114754  0.490910   \n",
      "5   0.114754   0.490910   0.333333  0.001889  0.308824  0.147541  0.472727   \n",
      "\n",
      "    var9(t)  var10(t)  var11(t)  var12(t)  \n",
      "1  0.333333  0.007639       0.0       0.0  \n",
      "2  0.333333  0.010698       0.0       0.0  \n",
      "3  0.333333  0.016047       0.0       0.0  \n",
      "4  0.333333  0.021396       0.0       0.0  \n",
      "5  0.333333  0.026745       0.0       0.0  \n"
     ]
    }
   ],
   "source": [
    "# load dataset\n",
    "dataset = read_csv('pollution.csv', header=0, index_col=0)\n",
    "values = dataset.values\n",
    "# integer encode direction\n",
    "encoder = LabelEncoder()\n",
    "values[:,4] = encoder.fit_transform(values[:,4])\n",
    "values[:,8] = encoder.fit_transform(values[:,8])\n",
    "# ensure all data is float\n",
    "values = values.astype('float32')\n",
    "# normalize features\n",
    "scaler = MinMaxScaler(feature_range=(0, 1))\n",
    "scaled = scaler.fit_transform(values)\n",
    "# frame as supervised learning\n",
    "reframed = series_to_supervised(scaled, 1, 1)\n",
    "# drop columns we don't want to predict\n",
    "reframed.drop(reframed.columns[[9,10,11,12,13,14,15]], axis=1, inplace=True)\n",
    "print(reframed.head())"
   ]
  },
  {
   "cell_type": "code",
   "execution_count": 34,
   "metadata": {},
   "outputs": [
    {
     "name": "stdout",
     "output_type": "stream",
     "text": [
      "(8760, 1, 16) (8760,) (35063, 1, 16) (35063,)\n"
     ]
    }
   ],
   "source": [
    "# split into train and test sets\n",
    "values = reframed.values\n",
    "n_train_hours = 365 * 24\n",
    "train = values[:n_train_hours, :]\n",
    "test = values[n_train_hours:, :]\n",
    "# split into input and outputs\n",
    "train_X, train_y = train[:, :-1], train[:, -1]\n",
    "test_X, test_y = test[:, :-1], test[:, -1]\n",
    "# reshape input to be 3D [samples, timesteps, features]\n",
    "train_X = train_X.reshape((train_X.shape[0], 1, train_X.shape[1]))\n",
    "test_X = test_X.reshape((test_X.shape[0], 1, test_X.shape[1]))\n",
    "print(train_X.shape, train_y.shape, test_X.shape, test_y.shape)"
   ]
  },
  {
   "cell_type": "code",
   "execution_count": 35,
   "metadata": {},
   "outputs": [
    {
     "name": "stdout",
     "output_type": "stream",
     "text": [
      "WARNING:tensorflow:From /Users/parthankasarapu/anaconda2/envs/py36/lib/python3.6/site-packages/tensorflow/python/ops/resource_variable_ops.py:435: colocate_with (from tensorflow.python.framework.ops) is deprecated and will be removed in a future version.\n",
      "Instructions for updating:\n",
      "Colocations handled automatically by placer.\n",
      "WARNING:tensorflow:From /Users/parthankasarapu/anaconda2/envs/py36/lib/python3.6/site-packages/tensorflow/python/ops/math_ops.py:3066: to_int32 (from tensorflow.python.ops.math_ops) is deprecated and will be removed in a future version.\n",
      "Instructions for updating:\n",
      "Use tf.cast instead.\n",
      "Train on 8760 samples, validate on 35063 samples\n",
      "Epoch 1/50\n",
      " - 1s - loss: 0.0202 - val_loss: 0.0499\n",
      "Epoch 2/50\n",
      " - 0s - loss: 0.0140 - val_loss: 0.0398\n",
      "Epoch 3/50\n",
      " - 0s - loss: 0.0129 - val_loss: 0.0229\n",
      "Epoch 4/50\n",
      " - 0s - loss: 0.0117 - val_loss: 0.0242\n",
      "Epoch 5/50\n",
      " - 0s - loss: 0.0111 - val_loss: 0.0188\n",
      "Epoch 6/50\n",
      " - 0s - loss: 0.0117 - val_loss: 0.0211\n",
      "Epoch 7/50\n",
      " - 0s - loss: 0.0102 - val_loss: 0.0235\n",
      "Epoch 8/50\n",
      " - 0s - loss: 0.0116 - val_loss: 0.0203\n",
      "Epoch 9/50\n",
      " - 0s - loss: 0.0110 - val_loss: 0.0136\n",
      "Epoch 10/50\n",
      " - 0s - loss: 0.0119 - val_loss: 0.0132\n",
      "Epoch 11/50\n",
      " - 0s - loss: 0.0114 - val_loss: 0.0107\n",
      "Epoch 12/50\n",
      " - 0s - loss: 0.0119 - val_loss: 0.0147\n",
      "Epoch 13/50\n",
      " - 0s - loss: 0.0101 - val_loss: 0.0125\n",
      "Epoch 14/50\n",
      " - 0s - loss: 0.0119 - val_loss: 0.0117\n",
      "Epoch 15/50\n",
      " - 0s - loss: 0.0095 - val_loss: 0.0163\n",
      "Epoch 16/50\n",
      " - 0s - loss: 0.0097 - val_loss: 0.0141\n",
      "Epoch 17/50\n",
      " - 0s - loss: 0.0107 - val_loss: 0.0189\n",
      "Epoch 18/50\n",
      " - 0s - loss: 0.0097 - val_loss: 0.0151\n",
      "Epoch 19/50\n",
      " - 0s - loss: 0.0099 - val_loss: 0.0185\n",
      "Epoch 20/50\n",
      " - 0s - loss: 0.0095 - val_loss: 0.0124\n",
      "Epoch 21/50\n",
      " - 0s - loss: 0.0094 - val_loss: 0.0118\n",
      "Epoch 22/50\n",
      " - 0s - loss: 0.0100 - val_loss: 0.0093\n",
      "Epoch 23/50\n",
      " - 0s - loss: 0.0100 - val_loss: 0.0109\n",
      "Epoch 24/50\n",
      " - 0s - loss: 0.0093 - val_loss: 0.0134\n",
      "Epoch 25/50\n",
      " - 0s - loss: 0.0095 - val_loss: 0.0125\n",
      "Epoch 26/50\n",
      " - 0s - loss: 0.0102 - val_loss: 0.0092\n",
      "Epoch 27/50\n",
      " - 0s - loss: 0.0099 - val_loss: 0.0099\n",
      "Epoch 28/50\n",
      " - 0s - loss: 0.0092 - val_loss: 0.0100\n",
      "Epoch 29/50\n",
      " - 0s - loss: 0.0088 - val_loss: 0.0096\n",
      "Epoch 30/50\n",
      " - 0s - loss: 0.0092 - val_loss: 0.0142\n",
      "Epoch 31/50\n",
      " - 0s - loss: 0.0095 - val_loss: 0.0099\n",
      "Epoch 32/50\n",
      " - 0s - loss: 0.0091 - val_loss: 0.0141\n",
      "Epoch 33/50\n",
      " - 0s - loss: 0.0081 - val_loss: 0.0116\n",
      "Epoch 34/50\n",
      " - 0s - loss: 0.0087 - val_loss: 0.0093\n",
      "Epoch 35/50\n",
      " - 0s - loss: 0.0097 - val_loss: 0.0149\n",
      "Epoch 36/50\n",
      " - 0s - loss: 0.0094 - val_loss: 0.0107\n",
      "Epoch 37/50\n",
      " - 0s - loss: 0.0085 - val_loss: 0.0100\n",
      "Epoch 38/50\n",
      " - 0s - loss: 0.0092 - val_loss: 0.0114\n",
      "Epoch 39/50\n",
      " - 0s - loss: 0.0089 - val_loss: 0.0101\n",
      "Epoch 40/50\n",
      " - 0s - loss: 0.0088 - val_loss: 0.0107\n",
      "Epoch 41/50\n",
      " - 0s - loss: 0.0087 - val_loss: 0.0085\n",
      "Epoch 42/50\n",
      " - 0s - loss: 0.0086 - val_loss: 0.0084\n",
      "Epoch 43/50\n",
      " - 0s - loss: 0.0083 - val_loss: 0.0125\n",
      "Epoch 44/50\n",
      " - 0s - loss: 0.0095 - val_loss: 0.0093\n",
      "Epoch 45/50\n",
      " - 0s - loss: 0.0085 - val_loss: 0.0097\n",
      "Epoch 46/50\n",
      " - 0s - loss: 0.0085 - val_loss: 0.0096\n",
      "Epoch 47/50\n",
      " - 0s - loss: 0.0083 - val_loss: 0.0080\n",
      "Epoch 48/50\n",
      " - 0s - loss: 0.0089 - val_loss: 0.0127\n",
      "Epoch 49/50\n",
      " - 0s - loss: 0.0091 - val_loss: 0.0099\n",
      "Epoch 50/50\n",
      " - 0s - loss: 0.0087 - val_loss: 0.0096\n"
     ]
    },
    {
     "data": {
      "image/png": "[encoded data removed]",
      "text/plain": [
       "<Figure size 432x288 with 1 Axes>"
      ]
     },
     "metadata": {
      "needs_background": "light"
     },
     "output_type": "display_data"
    },
    {
     "ename": "ValueError",
     "evalue": "operands could not be broadcast together with shapes (35063,16) (12,) (35063,16) ",
     "output_type": "error",
     "traceback": [
      "\u001b[0;31m---------------------------------------------------------------------------\u001b[0m",
      "\u001b[0;31mValueError\u001b[0m                                Traceback (most recent call last)",
      "\u001b[0;32m<timed exec>\u001b[0m in \u001b[0;36m<module>\u001b[0;34m\u001b[0m\n",
      "\u001b[0;32m~/anaconda2/envs/py36/lib/python3.6/site-packages/sklearn/preprocessing/data.py\u001b[0m in \u001b[0;36minverse_transform\u001b[0;34m(self, X)\u001b[0m\n\u001b[1;32m    404\u001b[0m                         force_all_finite=\"allow-nan\")\n\u001b[1;32m    405\u001b[0m \u001b[0;34m\u001b[0m\u001b[0m\n\u001b[0;32m--> 406\u001b[0;31m         \u001b[0mX\u001b[0m \u001b[0;34m-=\u001b[0m \u001b[0mself\u001b[0m\u001b[0;34m.\u001b[0m\u001b[0mmin_\u001b[0m\u001b[0;34m\u001b[0m\u001b[0;34m\u001b[0m\u001b[0m\n\u001b[0m\u001b[1;32m    407\u001b[0m         \u001b[0mX\u001b[0m \u001b[0;34m/=\u001b[0m \u001b[0mself\u001b[0m\u001b[0;34m.\u001b[0m\u001b[0mscale_\u001b[0m\u001b[0;34m\u001b[0m\u001b[0;34m\u001b[0m\u001b[0m\n\u001b[1;32m    408\u001b[0m         \u001b[0;32mreturn\u001b[0m \u001b[0mX\u001b[0m\u001b[0;34m\u001b[0m\u001b[0;34m\u001b[0m\u001b[0m\n",
      "\u001b[0;31mValueError\u001b[0m: operands could not be broadcast together with shapes (35063,16) (12,) (35063,16) "
     ]
    }
   ],
   "source": [
    "%%time \n",
    "\n",
    "# design network\n",
    "model = Sequential()\n",
    "model.add(LSTM(50, input_shape=(train_X.shape[1], train_X.shape[2])))\n",
    "model.add(Dense(1))\n",
    "model.compile(loss='mae', optimizer='adam')\n",
    "# fit network\n",
    "history = model.fit(train_X, train_y, epochs=50, batch_size=72, validation_data=(test_X, test_y), verbose=2, shuffle=False)\n",
    "# plot history\n",
    "pyplot.plot(history.history['loss'], label='train')\n",
    "pyplot.plot(history.history['val_loss'], label='test')\n",
    "pyplot.legend()\n",
    "pyplot.show()\n",
    " \n",
    "# make a prediction\n",
    "yhat = model.predict(test_X)\n",
    "test_X = test_X.reshape((test_X.shape[0], test_X.shape[2]))\n",
    "# invert scaling for forecast\n",
    "inv_yhat = concatenate((yhat, test_X[:, 1:]), axis=1)\n",
    "inv_yhat = scaler.inverse_transform(inv_yhat)\n",
    "inv_yhat = inv_yhat[:,0]\n",
    "# invert scaling for actual\n",
    "test_y = test_y.reshape((len(test_y), 1))\n",
    "inv_y = concatenate((test_y, test_X[:, 1:]), axis=1)\n",
    "inv_y = scaler.inverse_transform(inv_y)\n",
    "inv_y = inv_y[:,0]\n",
    "# calculate RMSE\n",
    "rmse = sqrt(mean_squared_error(inv_y, inv_yhat))\n",
    "print('Test RMSE: %.3f' % rmse)"
   ]
  },
  {
   "cell_type": "code",
   "execution_count": null,
   "metadata": {},
   "outputs": [],
   "source": []
  }
 ],
 "metadata": {
  "kernelspec": {
   "display_name": "Python 3",
   "language": "python",
   "name": "python3"
  },
  "language_info": {
   "codemirror_mode": {
    "name": "ipython",
    "version": 3
   },
   "file_extension": ".py",
   "mimetype": "text/x-python",
   "name": "python",
   "nbconvert_exporter": "python",
   "pygments_lexer": "ipython3",
   "version": "3.6.8"
  }
 },
 "nbformat": 4,
 "nbformat_minor": 2
}
